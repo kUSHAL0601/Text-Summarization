{
 "cells": [
  {
   "cell_type": "code",
   "execution_count": 3,
   "metadata": {},
   "outputs": [],
   "source": [
    "%run \"../Get Features.ipynb\""
   ]
  },
  {
   "cell_type": "code",
   "execution_count": 4,
   "metadata": {},
   "outputs": [],
   "source": [
    "import torch\n",
    "import numpy as np"
   ]
  },
  {
   "cell_type": "code",
   "execution_count": 5,
   "metadata": {},
   "outputs": [],
   "source": [
    "from model import LogisticRegression"
   ]
  },
  {
   "cell_type": "code",
   "execution_count": 6,
   "metadata": {},
   "outputs": [],
   "source": [
    "l = LogisticRegression()"
   ]
  },
  {
   "cell_type": "code",
   "execution_count": 7,
   "metadata": {},
   "outputs": [],
   "source": [
    "l.load_state_dict(torch.load('log_reg_weights'))"
   ]
  },
  {
   "cell_type": "code",
   "execution_count": 8,
   "metadata": {},
   "outputs": [
    {
     "data": {
      "text/plain": [
       "Parameter containing:\n",
       "tensor([[-0.0144, -0.0044,  0.2282,  0.0741, -0.0292, -0.0797]],\n",
       "       requires_grad=True)"
      ]
     },
     "execution_count": 8,
     "metadata": {},
     "output_type": "execute_result"
    }
   ],
   "source": [
    "l.weights.weight"
   ]
  },
  {
   "cell_type": "code",
   "execution_count": 9,
   "metadata": {},
   "outputs": [],
   "source": [
    "a = 'pronoun, verbs, entity_counts, sen_len, sen_pos, stop_count'.split(',')"
   ]
  },
  {
   "cell_type": "markdown",
   "metadata": {},
   "source": [
    "## Features and corresponding weights"
   ]
  },
  {
   "cell_type": "code",
   "execution_count": 10,
   "metadata": {},
   "outputs": [
    {
     "data": {
      "text/plain": [
       "[('pronoun', -0.014409942),\n",
       " (' verbs', -0.0043992093),\n",
       " (' entity_counts', 0.22817455),\n",
       " (' sen_len', 0.074055605),\n",
       " (' sen_pos', -0.029169073),\n",
       " (' stop_count', -0.07974424)]"
      ]
     },
     "execution_count": 10,
     "metadata": {},
     "output_type": "execute_result"
    }
   ],
   "source": [
    "list(zip(a, l.weights.weight.data.numpy()[0]))"
   ]
  },
  {
   "cell_type": "markdown",
   "metadata": {},
   "source": [
    "## Testing on Test Set"
   ]
  },
  {
   "cell_type": "code",
   "execution_count": 12,
   "metadata": {},
   "outputs": [
    {
     "name": "stdout",
     "output_type": "stream",
     "text": [
      "loaded tags\n",
      "loaded doc metadata\n",
      "loaded stop counts\n",
      "loaded outputs\n"
     ]
    }
   ],
   "source": [
    "a = get_all(type_=1)"
   ]
  },
  {
   "cell_type": "code",
   "execution_count": 13,
   "metadata": {},
   "outputs": [],
   "source": [
    "input = torch.t(torch.Tensor([np.hstack(i) for i in a[:-1]]))"
   ]
  },
  {
   "cell_type": "code",
   "execution_count": 14,
   "metadata": {},
   "outputs": [],
   "source": [
    "output = torch.Tensor(np.hstack(a[-1])).unsqueeze(1)"
   ]
  },
  {
   "cell_type": "code",
   "execution_count": 15,
   "metadata": {},
   "outputs": [],
   "source": [
    "prediction = l(input)"
   ]
  },
  {
   "cell_type": "code",
   "execution_count": 16,
   "metadata": {},
   "outputs": [],
   "source": [
    "true_positives = torch.sum(prediction.gt(0) * output.gt(0))"
   ]
  },
  {
   "cell_type": "code",
   "execution_count": 17,
   "metadata": {},
   "outputs": [],
   "source": [
    "true_negatives = torch.sum(prediction.lt(0) * output.le(0))"
   ]
  },
  {
   "cell_type": "code",
   "execution_count": 18,
   "metadata": {},
   "outputs": [],
   "source": [
    "false_positives = torch.sum(prediction.gt(0) * output.le(0))"
   ]
  },
  {
   "cell_type": "code",
   "execution_count": 19,
   "metadata": {},
   "outputs": [],
   "source": [
    "false_negatives = torch.sum(prediction.lt(0) * output.gt(0))"
   ]
  },
  {
   "cell_type": "markdown",
   "metadata": {},
   "source": [
    "## Precision"
   ]
  },
  {
   "cell_type": "code",
   "execution_count": 20,
   "metadata": {},
   "outputs": [
    {
     "data": {
      "text/plain": [
       "tensor(0.3743)"
      ]
     },
     "execution_count": 20,
     "metadata": {},
     "output_type": "execute_result"
    }
   ],
   "source": [
    "precision = true_positives.float() / (true_positives + true_negatives).float()\n",
    "precision"
   ]
  },
  {
   "cell_type": "markdown",
   "metadata": {},
   "source": [
    "## Recall"
   ]
  },
  {
   "cell_type": "code",
   "execution_count": 21,
   "metadata": {},
   "outputs": [
    {
     "data": {
      "text/plain": [
       "tensor(0.8241)"
      ]
     },
     "execution_count": 21,
     "metadata": {},
     "output_type": "execute_result"
    }
   ],
   "source": [
    "recall = true_positives.float() / (true_positives + false_positives).float()\n",
    "recall"
   ]
  },
  {
   "cell_type": "markdown",
   "metadata": {},
   "source": [
    "## F1 score"
   ]
  },
  {
   "cell_type": "code",
   "execution_count": 22,
   "metadata": {},
   "outputs": [],
   "source": [
    "f1 = 2 * precision * recall / (precision + recall)"
   ]
  },
  {
   "cell_type": "code",
   "execution_count": 23,
   "metadata": {},
   "outputs": [
    {
     "data": {
      "text/plain": [
       "tensor(0.5148)"
      ]
     },
     "execution_count": 23,
     "metadata": {},
     "output_type": "execute_result"
    }
   ],
   "source": [
    "f1"
   ]
  },
  {
   "cell_type": "markdown",
   "metadata": {},
   "source": [
    "## Sample output for a document"
   ]
  },
  {
   "cell_type": "code",
   "execution_count": 24,
   "metadata": {},
   "outputs": [],
   "source": [
    "%run ../paths.py"
   ]
  },
  {
   "cell_type": "code",
   "execution_count": 25,
   "metadata": {},
   "outputs": [],
   "source": [
    "text = open(TEXT_FOLDER + 'test/doc.1.txt').readlines()"
   ]
  },
  {
   "cell_type": "code",
   "execution_count": 27,
   "metadata": {},
   "outputs": [
    {
     "name": "stdout",
     "output_type": "stream",
     "text": [
      "loaded tags\n",
      "loaded doc metadata\n",
      "loaded stop counts\n",
      "loaded outputs\n"
     ]
    }
   ],
   "source": [
    "features = get_all(start=1, end=2, type_=1)"
   ]
  },
  {
   "cell_type": "code",
   "execution_count": 28,
   "metadata": {},
   "outputs": [],
   "source": [
    "input = torch.t(torch.Tensor(features[:-1]).squeeze(1))"
   ]
  },
  {
   "cell_type": "code",
   "execution_count": 29,
   "metadata": {},
   "outputs": [],
   "source": [
    "pred = l(input)"
   ]
  },
  {
   "cell_type": "code",
   "execution_count": 30,
   "metadata": {},
   "outputs": [],
   "source": [
    "ranks = list(zip(*sorted(enumerate(pred.data.numpy()), key=lambda x: x[1], reverse=True)))[0]"
   ]
  },
  {
   "cell_type": "markdown",
   "metadata": {},
   "source": [
    "## Sample Document"
   ]
  },
  {
   "cell_type": "code",
   "execution_count": 31,
   "metadata": {},
   "outputs": [
    {
     "name": "stdout",
     "output_type": "stream",
     "text": [
      "a trip to a former heavyweight champ 's gaudy , abandoned mansion\n",
      "\n",
      "the tallest and fastest \" giga - coaster \" in the world\n",
      "\n",
      "a dramatic interview with a famed spiritual leader -- and the tearful reaction by one of his former students\n",
      "\n",
      "these are some of the best videos of the week : in the 1980s and ' 90s -- before he moved to @entity15 and started keeping tigers as pets -- former heavyweight boxer @entity18 lived in a @entity21 , @entity20 , mansion\n",
      "\n",
      "the home featured an indoor swimming pool , a marble - and - gold @entity24 ( with mirrored ceiling , naturally ) and an entertainment room large enough for small concerts\n",
      "\n",
      "@entity18 sold the house in 1999 ; it 's due to become , of all things , a church\n",
      "\n",
      "the video can be seen at the top of this story\n",
      "\n",
      "not a fan of roller coasters ? you may want to skip the next video -- but for the rest of us , the thrill of watching is the next best thing to being there\n",
      "\n",
      "the @entity46 325 can be found at @entity48 amusement part in @entity49 , @entity50\n",
      "\n",
      "watch the video : in a @entity1 exclusive , @entity51 looked into allegations that @entity55 yoga creator @entity54 sexually assaulted six former students\n",
      "\n",
      "\" he 's a person who 's based a lot of truths on a lot of lies , \" said @entity57 , who alleges that @entity54 sexually assaulted her\n",
      "\n",
      "watch the video : @entity1 's @entity63 spoke to a shepherd who witnessed the final seconds of @entity65 , which crashed in the @entity66 last week\n",
      "\n",
      "\" i saw the plane heading down along the valley and i said , ' my @entity71 , it 's going to hit the mountain , ' \" @entity67 told @entity63\n",
      "\n",
      "\" i ducked my head\n",
      "\n",
      "... then after that , i saw the smoke\n",
      "\n",
      "\" watch the video : magician and comedian @entity77 was part of a panel speaking to @entity1 's @entity81 about the controversial @entity83 religious freedom law\n",
      "\n",
      "@entity77 , an avowed atheist and libertarian , noted \" we are not talking about forcing people to engage in gay sex , or even endorse gay sex\n",
      "\n",
      "\" his provocative opening led to an energetic back - and - forth with the @entity91 's @entity90 and the @entity93 's @entity92\n",
      "\n",
      "watch the video : a professor of physics at a @entity98 university asked 100 people to create a composite with facial features they thought were beautiful -- and then asked another 100 to rate their attractiveness\n",
      "\n",
      "you 'll never guess what celebrities best fit the model\n",
      "\n"
     ]
    }
   ],
   "source": [
    "for i in text:\n",
    "    print(i)"
   ]
  },
  {
   "cell_type": "markdown",
   "metadata": {},
   "source": [
    "## Summary for the corresponding document"
   ]
  },
  {
   "cell_type": "code",
   "execution_count": 32,
   "metadata": {},
   "outputs": [
    {
     "name": "stdout",
     "output_type": "stream",
     "text": [
      "\" i saw the plane heading down along the valley and i said , ' my @entity71 , it 's going to hit the mountain , ' \" @entity67 told @entity63\n",
      "\n",
      "watch the video : a professor of physics at a @entity98 university asked 100 people to create a composite with facial features they thought were beautiful -- and then asked another 100 to rate their attractiveness\n",
      "\n",
      "a trip to a former heavyweight champ 's gaudy , abandoned mansion\n",
      "\n"
     ]
    }
   ],
   "source": [
    "for r in ranks[0:3]:\n",
    "    print(text[r])"
   ]
  },
  {
   "cell_type": "code",
   "execution_count": null,
   "metadata": {},
   "outputs": [],
   "source": []
  }
 ],
 "metadata": {
  "kernelspec": {
   "display_name": "Python3 Pytorch",
   "language": "python",
   "name": "pytorch"
  },
  "language_info": {
   "codemirror_mode": {
    "name": "ipython",
    "version": 3
   },
   "file_extension": ".py",
   "mimetype": "text/x-python",
   "name": "python",
   "nbconvert_exporter": "python",
   "pygments_lexer": "ipython3",
   "version": "3.7.6"
  }
 },
 "nbformat": 4,
 "nbformat_minor": 2
}
