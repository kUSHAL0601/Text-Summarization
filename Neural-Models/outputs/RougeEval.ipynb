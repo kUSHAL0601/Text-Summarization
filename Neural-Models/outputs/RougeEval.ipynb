{
 "cells": [
  {
   "cell_type": "code",
   "execution_count": 1,
   "metadata": {},
   "outputs": [],
   "source": [
    "from rouge_score import rouge_scorer"
   ]
  },
  {
   "cell_type": "code",
   "execution_count": 2,
   "metadata": {},
   "outputs": [],
   "source": [
    "scorer = rouge_scorer.RougeScorer(['rouge1','rouge2', 'rougeL'], use_stemmer=True)"
   ]
  },
  {
   "cell_type": "code",
   "execution_count": 3,
   "metadata": {},
   "outputs": [],
   "source": [
    "avg_precision1,avg_recall1,avg_fscore1=0,0,0\n",
    "avg_precision2,avg_recall2,avg_fscore2=0,0,0\n",
    "avg_precisionl,avg_recalll,avg_fscorel=0,0,0\n",
    "tot=300"
   ]
  },
  {
   "cell_type": "code",
   "execution_count": null,
   "metadata": {},
   "outputs": [],
   "source": []
  },
  {
   "cell_type": "code",
   "execution_count": 4,
   "metadata": {},
   "outputs": [],
   "source": [
    "for i in range(1,tot+1):\n",
    "    try:\n",
    "        sys_gen = ''.join(open('./hyp/'+str(i)+'.txt').readlines())\n",
    "        text = ''.join(open('./ref/'+str(i)+'.txt').readlines())\n",
    "#         [precision, recall, f_score] = r.rouge_l([sys_gen], [text])\n",
    "#         avg_precision+=precision\n",
    "#         avg_fscore+=f_score\n",
    "#         avg_recall+=recall\n",
    "        score=scorer.score(sys_gen,text)\n",
    "        avg_precision1+=score['rouge1'].precision\n",
    "        avg_precision2+=score['rouge2'].precision\n",
    "        avg_precisionl+=score['rougeL'].precision\n",
    "        \n",
    "        avg_recall1+=score['rouge1'].recall\n",
    "        avg_recall2+=score['rouge2'].recall\n",
    "        avg_recalll+=score['rougeL'].recall\n",
    "        \n",
    "        avg_fscore1+=score['rouge1'].fmeasure\n",
    "        avg_fscore2+=score['rouge2'].fmeasure\n",
    "        avg_fscorel+=score['rougeL'].fmeasure\n",
    "#         scrs.append(scorer.score(sys_gen,text))\n",
    "    except:\n",
    "        tot-=1"
   ]
  },
  {
   "cell_type": "code",
   "execution_count": 5,
   "metadata": {},
   "outputs": [
    {
     "name": "stdout",
     "output_type": "stream",
     "text": [
      "0.8741520547688829 0.11013084033639563 0.19271124974064197\n",
      "0.4839850550226822 0.061352479871666164 0.10723812830149798\n",
      "0.6238470666378733 0.07825949139297952 0.1369669343848722\n"
     ]
    }
   ],
   "source": [
    "print(avg_precision1/tot,avg_recall1/tot,avg_fscore1/tot)\n",
    "print(avg_precision2/tot,avg_recall2/tot,avg_fscore2/tot)\n",
    "print(avg_precisionl/tot,avg_recalll/tot,avg_fscorel/tot)"
   ]
  },
  {
   "cell_type": "code",
   "execution_count": null,
   "metadata": {},
   "outputs": [],
   "source": []
  }
 ],
 "metadata": {
  "kernelspec": {
   "display_name": "Python3 Pytorch",
   "language": "python",
   "name": "pytorch"
  },
  "language_info": {
   "codemirror_mode": {
    "name": "ipython",
    "version": 3
   },
   "file_extension": ".py",
   "mimetype": "text/x-python",
   "name": "python",
   "nbconvert_exporter": "python",
   "pygments_lexer": "ipython3",
   "version": "3.7.6"
  }
 },
 "nbformat": 4,
 "nbformat_minor": 2
}
