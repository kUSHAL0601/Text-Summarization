{
 "cells": [
  {
   "cell_type": "code",
   "execution_count": 1,
   "metadata": {},
   "outputs": [],
   "source": [
    "from rouge_score import rouge_scorer"
   ]
  },
  {
   "cell_type": "code",
   "execution_count": 2,
   "metadata": {},
   "outputs": [],
   "source": [
    "scorer = rouge_scorer.RougeScorer(['rouge1','rouge2', 'rougeL'], use_stemmer=True)"
   ]
  },
  {
   "cell_type": "code",
   "execution_count": 10,
   "metadata": {},
   "outputs": [],
   "source": [
    "avg_precision1,avg_recall1,avg_fscore1=0,0,0\n",
    "avg_precision2,avg_recall2,avg_fscore2=0,0,0\n",
    "avg_precisionl,avg_recalll,avg_fscorel=0,0,0\n",
    "tot=1902"
   ]
  },
  {
   "cell_type": "code",
   "execution_count": null,
   "metadata": {},
   "outputs": [],
   "source": []
  },
  {
   "cell_type": "code",
   "execution_count": 13,
   "metadata": {},
   "outputs": [],
   "source": [
    "for i in range(tot):\n",
    "    try:\n",
    "        sys_gen = ''.join(open('./Output/'+str(i)+'.out').readlines())\n",
    "        text = ''.join(open('./Summaries/test/summary.'+str(i)+'.txt').readlines())\n",
    "#         [precision, recall, f_score] = r.rouge_l([sys_gen], [text])\n",
    "#         avg_precision+=precision\n",
    "#         avg_fscore+=f_score\n",
    "#         avg_recall+=recall\n",
    "        score=scorer.score(sys_gen,text)\n",
    "        avg_precision1+=score['rouge1'].precision\n",
    "        avg_precision2+=score['rouge2'].precision\n",
    "        avg_precisionl+=score['rougeL'].precision\n",
    "        \n",
    "        avg_recall1+=score['rouge1'].recall\n",
    "        avg_recall2+=score['rouge2'].recall\n",
    "        avg_recalll+=score['rougeL'].recall\n",
    "        \n",
    "        avg_fscore1+=score['rouge1'].fmeasure\n",
    "        avg_fscore2+=score['rouge2'].fmeasure\n",
    "        avg_fscorel+=score['rougeL'].fmeasure\n",
    "#         scrs.append(scorer.score(sys_gen,text))\n",
    "    except:\n",
    "        tot-=1"
   ]
  },
  {
   "cell_type": "code",
   "execution_count": 14,
   "metadata": {},
   "outputs": [
    {
     "name": "stdout",
     "output_type": "stream",
     "text": [
      "0.4421490080612453 0.1516811034985306 0.21899628360646214\n",
      "0.018611902709026493 0.006182913067019943 0.00896344168509196\n",
      "0.31518948848508055 0.10546490155590986 0.15322142519365473\n"
     ]
    }
   ],
   "source": [
    "print(avg_precision1/tot,avg_recall1/tot,avg_fscore1/tot)\n",
    "print(avg_precision2/tot,avg_recall2/tot,avg_fscore2/tot)\n",
    "print(avg_precisionl/tot,avg_recalll/tot,avg_fscorel/tot)"
   ]
  },
  {
   "cell_type": "code",
   "execution_count": null,
   "metadata": {},
   "outputs": [],
   "source": []
  }
 ],
 "metadata": {
  "kernelspec": {
   "display_name": "Python3 Pytorch",
   "language": "python",
   "name": "pytorch"
  },
  "language_info": {
   "codemirror_mode": {
    "name": "ipython",
    "version": 3
   },
   "file_extension": ".py",
   "mimetype": "text/x-python",
   "name": "python",
   "nbconvert_exporter": "python",
   "pygments_lexer": "ipython3",
   "version": "3.7.6"
  }
 },
 "nbformat": 4,
 "nbformat_minor": 2
}
